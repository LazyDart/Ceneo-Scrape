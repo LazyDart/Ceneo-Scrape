{
 "cells": [
  {
   "cell_type": "code",
   "execution_count": 1,
   "metadata": {},
   "outputs": [],
   "source": [
    "import pandas as pd"
   ]
  },
  {
   "cell_type": "code",
   "execution_count": 2,
   "metadata": {},
   "outputs": [],
   "source": [
    "df = pd.read_csv(\"review_count_report.csv\")"
   ]
  },
  {
   "cell_type": "code",
   "execution_count": null,
   "metadata": {},
   "outputs": [],
   "source": [
    "# offer_data[\"entry_id\"] = score_dict[1] + score_dict[2]\n",
    "# offer_data[\"review_text\"] = score_dict[3]\n",
    "# offer_data[\"score\"] = score_dict[4] + score_dict[5]"
   ]
  },
  {
   "cell_type": "code",
   "execution_count": 5,
   "metadata": {},
   "outputs": [],
   "source": [
    "df = df.rename(columns={\"entry_id\": \"negative_percent\", \n",
    "                        \"review_text\": \"neutral_percent\", \n",
    "                        \"score\": \"positive_percent\"})[[\n",
    "                            \"offer_ref\", \n",
    "                            \"negative_percent\", \n",
    "                            \"neutral_percent\", \n",
    "                            \"positive_percent\"\n",
    "                        ]]"
   ]
  },
  {
   "cell_type": "code",
   "execution_count": 9,
   "metadata": {},
   "outputs": [],
   "source": [
    "no_positives = df.loc[df[\"positive_percent\"] == 0, \"offer_ref\"]"
   ]
  },
  {
   "cell_type": "code",
   "execution_count": 11,
   "metadata": {},
   "outputs": [],
   "source": [
    "no_negatives = df.loc[df[\"negative_percent\"] == 0, \"offer_ref\"]"
   ]
  },
  {
   "cell_type": "code",
   "execution_count": 13,
   "metadata": {},
   "outputs": [],
   "source": [
    "no_negatives.to_csv(\"no_negatives.csv\", index=False)"
   ]
  },
  {
   "cell_type": "code",
   "execution_count": 10,
   "metadata": {},
   "outputs": [],
   "source": [
    "no_positives.to_csv(\"no_positives.csv\", index=False)"
   ]
  },
  {
   "cell_type": "code",
   "execution_count": 14,
   "metadata": {},
   "outputs": [],
   "source": [
    "unfinished = pd.read_csv(\"unfinished offers.csv\")"
   ]
  },
  {
   "cell_type": "code",
   "execution_count": 18,
   "metadata": {},
   "outputs": [],
   "source": [
    "unfinished[(~unfinished[\"offer_ref\"].isin(no_positives)) \n",
    "           & (~unfinished[\"offer_ref\"].isin(no_negatives))].to_csv(\"unfinished offers.csv\", index=False)"
   ]
  }
 ],
 "metadata": {
  "kernelspec": {
   "display_name": "tensorflow",
   "language": "python",
   "name": "python3"
  },
  "language_info": {
   "codemirror_mode": {
    "name": "ipython",
    "version": 3
   },
   "file_extension": ".py",
   "mimetype": "text/x-python",
   "name": "python",
   "nbconvert_exporter": "python",
   "pygments_lexer": "ipython3",
   "version": "3.11.2"
  }
 },
 "nbformat": 4,
 "nbformat_minor": 2
}
