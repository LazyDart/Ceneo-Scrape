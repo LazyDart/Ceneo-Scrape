{
 "cells": [
  {
   "cell_type": "code",
   "execution_count": 1,
   "metadata": {},
   "outputs": [],
   "source": [
    "import pandas as pd"
   ]
  },
  {
   "cell_type": "code",
   "execution_count": 2,
   "metadata": {},
   "outputs": [],
   "source": [
    "data = pd.read_csv(\"First output.csv\")"
   ]
  },
  {
   "cell_type": "code",
   "execution_count": 3,
   "metadata": {},
   "outputs": [],
   "source": [
    "data[\"score\"] = pd.to_numeric(data[\"score\"], errors=\"coerce\")"
   ]
  },
  {
   "cell_type": "code",
   "execution_count": 4,
   "metadata": {},
   "outputs": [],
   "source": [
    "data = data.dropna()"
   ]
  },
  {
   "cell_type": "code",
   "execution_count": 5,
   "metadata": {},
   "outputs": [],
   "source": [
    "data.loc[:, \"Case\"] = data[\"score\"].transform(lambda x: \"Positive\" if x >= 4 else \"Negative\") "
   ]
  },
  {
   "cell_type": "code",
   "execution_count": 6,
   "metadata": {},
   "outputs": [
    {
     "data": {
      "text/plain": [
       "Case\n",
       "Positive    814\n",
       "Negative     49\n",
       "Name: count, dtype: int64"
      ]
     },
     "execution_count": 6,
     "metadata": {},
     "output_type": "execute_result"
    }
   ],
   "source": [
    "data[\"Case\"].value_counts()"
   ]
  },
  {
   "cell_type": "code",
   "execution_count": 7,
   "metadata": {},
   "outputs": [
    {
     "data": {
      "text/plain": [
       "<Axes: xlabel='Case'>"
      ]
     },
     "execution_count": 7,
     "metadata": {},
     "output_type": "execute_result"
    },
    {
     "data": {
      "image/png": "[encoded data removed]",
      "text/plain": [
       "<Figure size 640x480 with 1 Axes>"
      ]
     },
     "metadata": {},
     "output_type": "display_data"
    }
   ],
   "source": [
    "data[\"Case\"].value_counts().plot(kind=\"bar\")"
   ]
  },
  {
   "cell_type": "code",
   "execution_count": 8,
   "metadata": {},
   "outputs": [
    {
     "data": {
      "text/plain": [
       "score\n",
       "5.0    327\n",
       "4.0    322\n",
       "4.5    165\n",
       "1.0     21\n",
       "0.5     16\n",
       "2.0     10\n",
       "1.5      2\n",
       "Name: count, dtype: int64"
      ]
     },
     "execution_count": 8,
     "metadata": {},
     "output_type": "execute_result"
    }
   ],
   "source": [
    "data[\"score\"].value_counts()"
   ]
  },
  {
   "cell_type": "code",
   "execution_count": 9,
   "metadata": {},
   "outputs": [
    {
     "data": {
      "text/html": [
       "<div>\n",
       "<style scoped>\n",
       "    .dataframe tbody tr th:only-of-type {\n",
       "        vertical-align: middle;\n",
       "    }\n",
       "\n",
       "    .dataframe tbody tr th {\n",
       "        vertical-align: top;\n",
       "    }\n",
       "\n",
       "    .dataframe thead th {\n",
       "        text-align: right;\n",
       "    }\n",
       "</style>\n",
       "<table border=\"1\" class=\"dataframe\">\n",
       "  <thead>\n",
       "    <tr style=\"text-align: right;\">\n",
       "      <th></th>\n",
       "      <th>entry_id</th>\n",
       "      <th>offer_ref</th>\n",
       "      <th>review_text</th>\n",
       "      <th>score</th>\n",
       "      <th>Case</th>\n",
       "    </tr>\n",
       "  </thead>\n",
       "  <tbody>\n",
       "    <tr>\n",
       "      <th>0</th>\n",
       "      <td>14633464</td>\n",
       "      <td>103592649</td>\n",
       "      <td>Ten sam projektor ale z innym logo widziałem o...</td>\n",
       "      <td>1.0</td>\n",
       "      <td>Negative</td>\n",
       "    </tr>\n",
       "    <tr>\n",
       "      <th>1</th>\n",
       "      <td>15234194</td>\n",
       "      <td>100038918</td>\n",
       "      <td>Nie wiem kto pisze te wszystkie opinie ale ten...</td>\n",
       "      <td>1.5</td>\n",
       "      <td>Negative</td>\n",
       "    </tr>\n",
       "    <tr>\n",
       "      <th>2</th>\n",
       "      <td>13151780</td>\n",
       "      <td>96703997</td>\n",
       "      <td>Słaby. Parametry podane w danych technicznych ...</td>\n",
       "      <td>1.0</td>\n",
       "      <td>Negative</td>\n",
       "    </tr>\n",
       "    <tr>\n",
       "      <th>20</th>\n",
       "      <td>17607160</td>\n",
       "      <td>146778223</td>\n",
       "      <td>Nie dostałem produktu</td>\n",
       "      <td>0.5</td>\n",
       "      <td>Negative</td>\n",
       "    </tr>\n",
       "    <tr>\n",
       "      <th>34</th>\n",
       "      <td>17607158</td>\n",
       "      <td>128004375</td>\n",
       "      <td>Nie dostałem produktu</td>\n",
       "      <td>0.5</td>\n",
       "      <td>Negative</td>\n",
       "    </tr>\n",
       "    <tr>\n",
       "      <th>44</th>\n",
       "      <td>17716940</td>\n",
       "      <td>140558095</td>\n",
       "      <td>Kamera nie spełniła moich oczekiwań. Wykrywani...</td>\n",
       "      <td>2.0</td>\n",
       "      <td>Negative</td>\n",
       "    </tr>\n",
       "    <tr>\n",
       "      <th>51</th>\n",
       "      <td>17323092</td>\n",
       "      <td>118174705</td>\n",
       "      <td>Już trzy tygodnie czekam na pieniądze za zwróc...</td>\n",
       "      <td>0.5</td>\n",
       "      <td>Negative</td>\n",
       "    </tr>\n",
       "    <tr>\n",
       "      <th>74</th>\n",
       "      <td>16818026</td>\n",
       "      <td>98447371</td>\n",
       "      <td>zz</td>\n",
       "      <td>0.5</td>\n",
       "      <td>Negative</td>\n",
       "    </tr>\n",
       "    <tr>\n",
       "      <th>78</th>\n",
       "      <td>15538951</td>\n",
       "      <td>32233021</td>\n",
       "      <td>efef</td>\n",
       "      <td>1.0</td>\n",
       "      <td>Negative</td>\n",
       "    </tr>\n",
       "    <tr>\n",
       "      <th>85</th>\n",
       "      <td>15917212</td>\n",
       "      <td>49753246</td>\n",
       "      <td>Ta szklarnia to beznadziejny produkt. Wykonana...</td>\n",
       "      <td>1.0</td>\n",
       "      <td>Negative</td>\n",
       "    </tr>\n",
       "    <tr>\n",
       "      <th>86</th>\n",
       "      <td>14267947</td>\n",
       "      <td>49753246</td>\n",
       "      <td>Badziew za duże pieniądze.  \\nNie wytrzymuje w...</td>\n",
       "      <td>1.0</td>\n",
       "      <td>Negative</td>\n",
       "    </tr>\n",
       "    <tr>\n",
       "      <th>87</th>\n",
       "      <td>10551873</td>\n",
       "      <td>49753246</td>\n",
       "      <td>nie otrzymalem produktu</td>\n",
       "      <td>1.0</td>\n",
       "      <td>Negative</td>\n",
       "    </tr>\n",
       "    <tr>\n",
       "      <th>88</th>\n",
       "      <td>17800987</td>\n",
       "      <td>49753245</td>\n",
       "      <td>Witam. W maju 2022 r. zakupiłem szklarnię Bala...</td>\n",
       "      <td>1.0</td>\n",
       "      <td>Negative</td>\n",
       "    </tr>\n",
       "    <tr>\n",
       "      <th>95</th>\n",
       "      <td>11413967</td>\n",
       "      <td>43233767</td>\n",
       "      <td>Dostanę, ocenię!</td>\n",
       "      <td>0.5</td>\n",
       "      <td>Negative</td>\n",
       "    </tr>\n",
       "    <tr>\n",
       "      <th>96</th>\n",
       "      <td>17079739</td>\n",
       "      <td>99104183</td>\n",
       "      <td>Niestety, moja opinia jest negatywna. Dostałam...</td>\n",
       "      <td>0.5</td>\n",
       "      <td>Negative</td>\n",
       "    </tr>\n",
       "    <tr>\n",
       "      <th>105</th>\n",
       "      <td>15442337</td>\n",
       "      <td>72982364</td>\n",
       "      <td>Bieżnia zakupiona prawie rok temu ale użytkowa...</td>\n",
       "      <td>2.0</td>\n",
       "      <td>Negative</td>\n",
       "    </tr>\n",
       "    <tr>\n",
       "      <th>106</th>\n",
       "      <td>14186326</td>\n",
       "      <td>72982364</td>\n",
       "      <td>Bieżnia duża, wygodna, ale na tym kończą się z...</td>\n",
       "      <td>0.5</td>\n",
       "      <td>Negative</td>\n",
       "    </tr>\n",
       "    <tr>\n",
       "      <th>107</th>\n",
       "      <td>12035754</td>\n",
       "      <td>59965528</td>\n",
       "      <td>chemiczny smak</td>\n",
       "      <td>2.0</td>\n",
       "      <td>Negative</td>\n",
       "    </tr>\n",
       "    <tr>\n",
       "      <th>114</th>\n",
       "      <td>4606213</td>\n",
       "      <td>43199321</td>\n",
       "      <td>Czy ten tunel jest z szkieletem ???</td>\n",
       "      <td>1.0</td>\n",
       "      <td>Negative</td>\n",
       "    </tr>\n",
       "    <tr>\n",
       "      <th>124</th>\n",
       "      <td>11894192</td>\n",
       "      <td>38772524</td>\n",
       "      <td>Ciśnienie robocze 130 bar jest słabe. Strumień...</td>\n",
       "      <td>2.0</td>\n",
       "      <td>Negative</td>\n",
       "    </tr>\n",
       "    <tr>\n",
       "      <th>125</th>\n",
       "      <td>10580569</td>\n",
       "      <td>36641983</td>\n",
       "      <td>Do podlewania kwiatków nadaje się idealnie.</td>\n",
       "      <td>0.5</td>\n",
       "      <td>Negative</td>\n",
       "    </tr>\n",
       "    <tr>\n",
       "      <th>126</th>\n",
       "      <td>4897253</td>\n",
       "      <td>25904451</td>\n",
       "      <td>Niestety muszę zgodzić się z poprzednią negaty...</td>\n",
       "      <td>2.0</td>\n",
       "      <td>Negative</td>\n",
       "    </tr>\n",
       "    <tr>\n",
       "      <th>134</th>\n",
       "      <td>18169457</td>\n",
       "      <td>92190993</td>\n",
       "      <td>Papierowe</td>\n",
       "      <td>0.5</td>\n",
       "      <td>Negative</td>\n",
       "    </tr>\n",
       "    <tr>\n",
       "      <th>178</th>\n",
       "      <td>17903163</td>\n",
       "      <td>142215391</td>\n",
       "      <td>200 lm przy tej cenie to chyba jakiś żart.</td>\n",
       "      <td>1.0</td>\n",
       "      <td>Negative</td>\n",
       "    </tr>\n",
       "    <tr>\n",
       "      <th>179</th>\n",
       "      <td>16987568</td>\n",
       "      <td>22414284</td>\n",
       "      <td>Beznadzieja, pełno syfow na ciele \\nSmak nie d...</td>\n",
       "      <td>0.5</td>\n",
       "      <td>Negative</td>\n",
       "    </tr>\n",
       "    <tr>\n",
       "      <th>190</th>\n",
       "      <td>17656199</td>\n",
       "      <td>129272205</td>\n",
       "      <td>Byla dziura w paczce</td>\n",
       "      <td>1.0</td>\n",
       "      <td>Negative</td>\n",
       "    </tr>\n",
       "    <tr>\n",
       "      <th>206</th>\n",
       "      <td>15699272</td>\n",
       "      <td>90559215</td>\n",
       "      <td>...</td>\n",
       "      <td>1.0</td>\n",
       "      <td>Negative</td>\n",
       "    </tr>\n",
       "    <tr>\n",
       "      <th>207</th>\n",
       "      <td>13905457</td>\n",
       "      <td>76455970</td>\n",
       "      <td>Tabletki są za duże i za twarde. O mało się ni...</td>\n",
       "      <td>2.0</td>\n",
       "      <td>Negative</td>\n",
       "    </tr>\n",
       "    <tr>\n",
       "      <th>218</th>\n",
       "      <td>8038091</td>\n",
       "      <td>11056997</td>\n",
       "      <td>Chciałem wszystkich ostrzec przed tym podnośni...</td>\n",
       "      <td>1.0</td>\n",
       "      <td>Negative</td>\n",
       "    </tr>\n",
       "    <tr>\n",
       "      <th>260</th>\n",
       "      <td>17434987</td>\n",
       "      <td>147504243</td>\n",
       "      <td>Otrzymany towar niezgodny z zamówieniem. Po za...</td>\n",
       "      <td>1.0</td>\n",
       "      <td>Negative</td>\n",
       "    </tr>\n",
       "    <tr>\n",
       "      <th>261</th>\n",
       "      <td>17572595</td>\n",
       "      <td>61286143</td>\n",
       "      <td>produkt dno</td>\n",
       "      <td>1.0</td>\n",
       "      <td>Negative</td>\n",
       "    </tr>\n",
       "    <tr>\n",
       "      <th>303</th>\n",
       "      <td>3146065</td>\n",
       "      <td>54551871</td>\n",
       "      <td>nie polecam od tego dostawcy, zamówiłem u inne...</td>\n",
       "      <td>0.5</td>\n",
       "      <td>Negative</td>\n",
       "    </tr>\n",
       "    <tr>\n",
       "      <th>350</th>\n",
       "      <td>12164753</td>\n",
       "      <td>91066335</td>\n",
       "      <td>Nie polecam!!!! Słabe, nic dobrego nie dające ...</td>\n",
       "      <td>0.5</td>\n",
       "      <td>Negative</td>\n",
       "    </tr>\n",
       "    <tr>\n",
       "      <th>378</th>\n",
       "      <td>13656945</td>\n",
       "      <td>66186351</td>\n",
       "      <td>Towar nie doszedł wogole naciagacz</td>\n",
       "      <td>0.5</td>\n",
       "      <td>Negative</td>\n",
       "    </tr>\n",
       "    <tr>\n",
       "      <th>496</th>\n",
       "      <td>14222602</td>\n",
       "      <td>100509807</td>\n",
       "      <td>Slabiutko</td>\n",
       "      <td>2.0</td>\n",
       "      <td>Negative</td>\n",
       "    </tr>\n",
       "    <tr>\n",
       "      <th>554</th>\n",
       "      <td>10696676</td>\n",
       "      <td>39749131</td>\n",
       "      <td>Czyste oszustwo, ktoś w garażu napełnił kapsuł...</td>\n",
       "      <td>1.0</td>\n",
       "      <td>Negative</td>\n",
       "    </tr>\n",
       "    <tr>\n",
       "      <th>576</th>\n",
       "      <td>8618849</td>\n",
       "      <td>47141659</td>\n",
       "      <td>Brak pobudzenia pomimo zazycia wiekszej dawki ...</td>\n",
       "      <td>1.0</td>\n",
       "      <td>Negative</td>\n",
       "    </tr>\n",
       "    <tr>\n",
       "      <th>602</th>\n",
       "      <td>17041563</td>\n",
       "      <td>96545119</td>\n",
       "      <td>Okropny, chemiczny (jakby mączny?) smak w poró...</td>\n",
       "      <td>0.5</td>\n",
       "      <td>Negative</td>\n",
       "    </tr>\n",
       "    <tr>\n",
       "      <th>631</th>\n",
       "      <td>13280876</td>\n",
       "      <td>94868908</td>\n",
       "      <td>Nie działa</td>\n",
       "      <td>1.0</td>\n",
       "      <td>Negative</td>\n",
       "    </tr>\n",
       "    <tr>\n",
       "      <th>632</th>\n",
       "      <td>16424474</td>\n",
       "      <td>94868908</td>\n",
       "      <td>Andromass polecany przez niektórych naturalnyc...</td>\n",
       "      <td>0.5</td>\n",
       "      <td>Negative</td>\n",
       "    </tr>\n",
       "    <tr>\n",
       "      <th>633</th>\n",
       "      <td>15057801</td>\n",
       "      <td>53423004</td>\n",
       "      <td>Nie zauważyłam efektów. Być może za krótko zaż...</td>\n",
       "      <td>2.0</td>\n",
       "      <td>Negative</td>\n",
       "    </tr>\n",
       "    <tr>\n",
       "      <th>634</th>\n",
       "      <td>15653188</td>\n",
       "      <td>53423004</td>\n",
       "      <td>Porażka… pieniądze w błoto.</td>\n",
       "      <td>1.0</td>\n",
       "      <td>Negative</td>\n",
       "    </tr>\n",
       "    <tr>\n",
       "      <th>663</th>\n",
       "      <td>10878967</td>\n",
       "      <td>35091062</td>\n",
       "      <td>nie polecam</td>\n",
       "      <td>1.0</td>\n",
       "      <td>Negative</td>\n",
       "    </tr>\n",
       "    <tr>\n",
       "      <th>672</th>\n",
       "      <td>1234527</td>\n",
       "      <td>54551867</td>\n",
       "      <td>bardzo drogi, nieekonomiczny stack, Rozpuszcza...</td>\n",
       "      <td>2.0</td>\n",
       "      <td>Negative</td>\n",
       "    </tr>\n",
       "    <tr>\n",
       "      <th>681</th>\n",
       "      <td>17447341</td>\n",
       "      <td>30098932</td>\n",
       "      <td>niestety pieniądze wpłaciłem, a towaru nie otr...</td>\n",
       "      <td>1.0</td>\n",
       "      <td>Negative</td>\n",
       "    </tr>\n",
       "    <tr>\n",
       "      <th>693</th>\n",
       "      <td>16768977</td>\n",
       "      <td>133628523</td>\n",
       "      <td>Bardzo nieprzyjemny zapach</td>\n",
       "      <td>1.5</td>\n",
       "      <td>Negative</td>\n",
       "    </tr>\n",
       "    <tr>\n",
       "      <th>795</th>\n",
       "      <td>17063644</td>\n",
       "      <td>122756421</td>\n",
       "      <td>Zamówiłem creatine dostałem isotonik ....</td>\n",
       "      <td>1.0</td>\n",
       "      <td>Negative</td>\n",
       "    </tr>\n",
       "    <tr>\n",
       "      <th>838</th>\n",
       "      <td>13433393</td>\n",
       "      <td>43270678</td>\n",
       "      <td>Slabe</td>\n",
       "      <td>2.0</td>\n",
       "      <td>Negative</td>\n",
       "    </tr>\n",
       "    <tr>\n",
       "      <th>855</th>\n",
       "      <td>2231497</td>\n",
       "      <td>12386967</td>\n",
       "      <td>to ***** ***** nie działa w ***** se to wsadzi...</td>\n",
       "      <td>0.5</td>\n",
       "      <td>Negative</td>\n",
       "    </tr>\n",
       "  </tbody>\n",
       "</table>\n",
       "</div>"
      ],
      "text/plain": [
       "     entry_id  offer_ref                                        review_text   \n",
       "0    14633464  103592649  Ten sam projektor ale z innym logo widziałem o...  \\\n",
       "1    15234194  100038918  Nie wiem kto pisze te wszystkie opinie ale ten...   \n",
       "2    13151780   96703997  Słaby. Parametry podane w danych technicznych ...   \n",
       "20   17607160  146778223                              Nie dostałem produktu   \n",
       "34   17607158  128004375                              Nie dostałem produktu   \n",
       "44   17716940  140558095  Kamera nie spełniła moich oczekiwań. Wykrywani...   \n",
       "51   17323092  118174705  Już trzy tygodnie czekam na pieniądze za zwróc...   \n",
       "74   16818026   98447371                                                 zz   \n",
       "78   15538951   32233021                                               efef   \n",
       "85   15917212   49753246  Ta szklarnia to beznadziejny produkt. Wykonana...   \n",
       "86   14267947   49753246  Badziew za duże pieniądze.  \\nNie wytrzymuje w...   \n",
       "87   10551873   49753246                            nie otrzymalem produktu   \n",
       "88   17800987   49753245  Witam. W maju 2022 r. zakupiłem szklarnię Bala...   \n",
       "95   11413967   43233767                                   Dostanę, ocenię!   \n",
       "96   17079739   99104183  Niestety, moja opinia jest negatywna. Dostałam...   \n",
       "105  15442337   72982364  Bieżnia zakupiona prawie rok temu ale użytkowa...   \n",
       "106  14186326   72982364  Bieżnia duża, wygodna, ale na tym kończą się z...   \n",
       "107  12035754   59965528                                     chemiczny smak   \n",
       "114   4606213   43199321                Czy ten tunel jest z szkieletem ???   \n",
       "124  11894192   38772524  Ciśnienie robocze 130 bar jest słabe. Strumień...   \n",
       "125  10580569   36641983        Do podlewania kwiatków nadaje się idealnie.   \n",
       "126   4897253   25904451  Niestety muszę zgodzić się z poprzednią negaty...   \n",
       "134  18169457   92190993                                         Papierowe    \n",
       "178  17903163  142215391       200 lm przy tej cenie to chyba jakiś żart.     \n",
       "179  16987568   22414284  Beznadzieja, pełno syfow na ciele \\nSmak nie d...   \n",
       "190  17656199  129272205                               Byla dziura w paczce   \n",
       "206  15699272   90559215                                                ...   \n",
       "207  13905457   76455970  Tabletki są za duże i za twarde. O mało się ni...   \n",
       "218   8038091   11056997  Chciałem wszystkich ostrzec przed tym podnośni...   \n",
       "260  17434987  147504243  Otrzymany towar niezgodny z zamówieniem. Po za...   \n",
       "261  17572595   61286143                                        produkt dno   \n",
       "303   3146065   54551871  nie polecam od tego dostawcy, zamówiłem u inne...   \n",
       "350  12164753   91066335  Nie polecam!!!! Słabe, nic dobrego nie dające ...   \n",
       "378  13656945   66186351                 Towar nie doszedł wogole naciagacz   \n",
       "496  14222602  100509807                                          Slabiutko   \n",
       "554  10696676   39749131  Czyste oszustwo, ktoś w garażu napełnił kapsuł...   \n",
       "576   8618849   47141659  Brak pobudzenia pomimo zazycia wiekszej dawki ...   \n",
       "602  17041563   96545119  Okropny, chemiczny (jakby mączny?) smak w poró...   \n",
       "631  13280876   94868908                                        Nie działa    \n",
       "632  16424474   94868908  Andromass polecany przez niektórych naturalnyc...   \n",
       "633  15057801   53423004  Nie zauważyłam efektów. Być może za krótko zaż...   \n",
       "634  15653188   53423004                        Porażka… pieniądze w błoto.   \n",
       "663  10878967   35091062                                        nie polecam   \n",
       "672   1234527   54551867  bardzo drogi, nieekonomiczny stack, Rozpuszcza...   \n",
       "681  17447341   30098932  niestety pieniądze wpłaciłem, a towaru nie otr...   \n",
       "693  16768977  133628523                         Bardzo nieprzyjemny zapach   \n",
       "795  17063644  122756421         Zamówiłem creatine dostałem isotonik ....    \n",
       "838  13433393   43270678                                              Slabe   \n",
       "855   2231497   12386967  to ***** ***** nie działa w ***** se to wsadzi...   \n",
       "\n",
       "     score      Case  \n",
       "0      1.0  Negative  \n",
       "1      1.5  Negative  \n",
       "2      1.0  Negative  \n",
       "20     0.5  Negative  \n",
       "34     0.5  Negative  \n",
       "44     2.0  Negative  \n",
       "51     0.5  Negative  \n",
       "74     0.5  Negative  \n",
       "78     1.0  Negative  \n",
       "85     1.0  Negative  \n",
       "86     1.0  Negative  \n",
       "87     1.0  Negative  \n",
       "88     1.0  Negative  \n",
       "95     0.5  Negative  \n",
       "96     0.5  Negative  \n",
       "105    2.0  Negative  \n",
       "106    0.5  Negative  \n",
       "107    2.0  Negative  \n",
       "114    1.0  Negative  \n",
       "124    2.0  Negative  \n",
       "125    0.5  Negative  \n",
       "126    2.0  Negative  \n",
       "134    0.5  Negative  \n",
       "178    1.0  Negative  \n",
       "179    0.5  Negative  \n",
       "190    1.0  Negative  \n",
       "206    1.0  Negative  \n",
       "207    2.0  Negative  \n",
       "218    1.0  Negative  \n",
       "260    1.0  Negative  \n",
       "261    1.0  Negative  \n",
       "303    0.5  Negative  \n",
       "350    0.5  Negative  \n",
       "378    0.5  Negative  \n",
       "496    2.0  Negative  \n",
       "554    1.0  Negative  \n",
       "576    1.0  Negative  \n",
       "602    0.5  Negative  \n",
       "631    1.0  Negative  \n",
       "632    0.5  Negative  \n",
       "633    2.0  Negative  \n",
       "634    1.0  Negative  \n",
       "663    1.0  Negative  \n",
       "672    2.0  Negative  \n",
       "681    1.0  Negative  \n",
       "693    1.5  Negative  \n",
       "795    1.0  Negative  \n",
       "838    2.0  Negative  \n",
       "855    0.5  Negative  "
      ]
     },
     "execution_count": 9,
     "metadata": {},
     "output_type": "execute_result"
    }
   ],
   "source": [
    "data[data[\"Case\"] == \"Negative\"]"
   ]
  },
  {
   "cell_type": "code",
   "execution_count": 10,
   "metadata": {},
   "outputs": [],
   "source": [
    "data_fixed = pd.read_csv(\"./second output.csv\")"
   ]
  },
  {
   "cell_type": "code",
   "execution_count": 11,
   "metadata": {},
   "outputs": [],
   "source": [
    "data_fixed[\"score\"] = pd.to_numeric(data_fixed[\"score\"], errors=\"coerce\")\n",
    "data_fixed = data_fixed.dropna()"
   ]
  },
  {
   "cell_type": "code",
   "execution_count": 12,
   "metadata": {},
   "outputs": [],
   "source": [
    "data_fixed[\"Positive\"] = data_fixed[\"score\"] >= 4"
   ]
  },
  {
   "cell_type": "code",
   "execution_count": 13,
   "metadata": {},
   "outputs": [
    {
     "data": {
      "text/plain": [
       "Positive\n",
       "True     1161\n",
       "False     241\n",
       "Name: count, dtype: int64"
      ]
     },
     "execution_count": 13,
     "metadata": {},
     "output_type": "execute_result"
    }
   ],
   "source": [
    "data_fixed[\"Positive\"].value_counts()"
   ]
  },
  {
   "cell_type": "code",
   "execution_count": 14,
   "metadata": {},
   "outputs": [
    {
     "data": {
      "text/plain": [
       "<Axes: xlabel='Positive'>"
      ]
     },
     "execution_count": 14,
     "metadata": {},
     "output_type": "execute_result"
    },
    {
     "data": {
      "image/png": "[encoded data removed]",
      "text/plain": [
       "<Figure size 640x480 with 1 Axes>"
      ]
     },
     "metadata": {},
     "output_type": "display_data"
    }
   ],
   "source": [
    "data_fixed[\"Positive\"].value_counts().plot(kind=\"bar\")"
   ]
  },
  {
   "cell_type": "code",
   "execution_count": 69,
   "metadata": {},
   "outputs": [],
   "source": [
    "data_with_limits = pd.read_csv(\"./thirteenth output.csv\")"
   ]
  },
  {
   "cell_type": "code",
   "execution_count": 70,
   "metadata": {},
   "outputs": [],
   "source": [
    "different_runs_delimiters = data_with_limits[data_with_limits[\"entry_date\"] == \"entry_date\"].index.values"
   ]
  },
  {
   "cell_type": "code",
   "execution_count": 71,
   "metadata": {},
   "outputs": [],
   "source": [
    "data_with_limits[\"score\"] = pd.to_numeric(data_with_limits[\"score\"], errors=\"coerce\")\n",
    "data_with_limits = data_with_limits.dropna(subset=[\"score\"])"
   ]
  },
  {
   "cell_type": "code",
   "execution_count": 72,
   "metadata": {},
   "outputs": [],
   "source": [
    "data_with_limits = data_with_limits.drop_duplicates(subset=[\"entry_id\", \"offer_ref\"])"
   ]
  },
  {
   "cell_type": "code",
   "execution_count": 73,
   "metadata": {},
   "outputs": [],
   "source": [
    "data_with_limits[\"Positive\"] = data_with_limits[\"score\"] >= 4"
   ]
  },
  {
   "cell_type": "code",
   "execution_count": 74,
   "metadata": {},
   "outputs": [
    {
     "data": {
      "text/plain": [
       "Positive\n",
       "False    10949\n",
       "True      6622\n",
       "Name: count, dtype: int64"
      ]
     },
     "execution_count": 74,
     "metadata": {},
     "output_type": "execute_result"
    }
   ],
   "source": [
    "data_with_limits[\"Positive\"].value_counts()"
   ]
  },
  {
   "cell_type": "code",
   "execution_count": 75,
   "metadata": {},
   "outputs": [],
   "source": [
    "data_with_limits[\"Rating\"] = data_with_limits[\"score\"].transform(lambda x: \"Positive\" if x >= 4 else (\"Negative\" if x <= 2 else \"Medium\"))"
   ]
  },
  {
   "cell_type": "code",
   "execution_count": 76,
   "metadata": {},
   "outputs": [
    {
     "data": {
      "text/plain": [
       "200"
      ]
     },
     "execution_count": 76,
     "metadata": {},
     "output_type": "execute_result"
    }
   ],
   "source": [
    "data_with_limits[\"top_category\"].nunique()"
   ]
  },
  {
   "cell_type": "code",
   "execution_count": 77,
   "metadata": {},
   "outputs": [
    {
     "data": {
      "text/plain": [
       "3510"
      ]
     },
     "execution_count": 77,
     "metadata": {},
     "output_type": "execute_result"
    }
   ],
   "source": [
    "data_with_limits[\"offer_ref\"].nunique()"
   ]
  },
  {
   "cell_type": "code",
   "execution_count": 78,
   "metadata": {},
   "outputs": [
    {
     "data": {
      "text/plain": [
       "<Axes: xlabel='Rating'>"
      ]
     },
     "execution_count": 78,
     "metadata": {},
     "output_type": "execute_result"
    },
    {
     "data": {
      "image/png": "[encoded data removed]",
      "text/plain": [
       "<Figure size 640x480 with 1 Axes>"
      ]
     },
     "metadata": {},
     "output_type": "display_data"
    }
   ],
   "source": [
    "data_with_limits[\"Rating\"].value_counts().plot(kind=\"bar\")"
   ]
  },
  {
   "cell_type": "code",
   "execution_count": 84,
   "metadata": {},
   "outputs": [
    {
     "data": {
      "text/plain": [
       "top_category\n",
       "Ekspresy ciśnieniowe                       1117\n",
       "Smartfony                                   858\n",
       "Dokanałowe                                  848\n",
       "4K UHD                                      683\n",
       "Odkurzacze tradycyjne                       618\n",
       "                                           ... \n",
       "Lalki z bajek                                 1\n",
       "Microsoft Xbox One X                          1\n",
       "Hantle stałe                                  1\n",
       "Łóżka i tapczaniki dla starszych dzieci       1\n",
       "Telewizory                                    1\n",
       "Name: count, Length: 200, dtype: int64"
      ]
     },
     "execution_count": 84,
     "metadata": {},
     "output_type": "execute_result"
    }
   ],
   "source": [
    "data_with_limits[\"top_category\"].value_counts()"
   ]
  }
 ],
 "metadata": {
  "kernelspec": {
   "display_name": "tensorflow",
   "language": "python",
   "name": "python3"
  },
  "language_info": {
   "codemirror_mode": {
    "name": "ipython",
    "version": 3
   },
   "file_extension": ".py",
   "mimetype": "text/x-python",
   "name": "python",
   "nbconvert_exporter": "python",
   "pygments_lexer": "ipython3",
   "version": "3.11.2"
  }
 },
 "nbformat": 4,
 "nbformat_minor": 2
}
